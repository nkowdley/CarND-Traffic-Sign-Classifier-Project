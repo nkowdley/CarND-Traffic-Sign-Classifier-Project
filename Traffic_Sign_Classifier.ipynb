{
 "cells": [
  {
   "cell_type": "markdown",
   "metadata": {},
   "source": [
    "# Self-Driving Car Engineer Nanodegree\n",
    "\n",
    "## Deep Learning\n",
    "\n",
    "## Project: Build a Traffic Sign Recognition Classifier\n",
    "\n",
    "In this notebook, a template is provided for you to implement your functionality in stages, which is required to successfully complete this project. If additional code is required that cannot be included in the notebook, be sure that the Python code is successfully imported and included in your submission if necessary. \n",
    "\n",
    "> **Note**: Once you have completed all of the code implementations, you need to finalize your work by exporting the iPython Notebook as an HTML document. Before exporting the notebook to html, all of the code cells need to have been run so that reviewers can see the final implementation and output. You can then export the notebook by using the menu above and navigating to  \\n\",\n",
    "    \"**File -> Download as -> HTML (.html)**. Include the finished document along with this notebook as your submission. \n",
    "\n",
    "In addition to implementing code, there is a writeup to complete. The writeup should be completed in a separate file, which can be either a markdown file or a pdf document. There is a [write up template](https://github.com/udacity/CarND-Traffic-Sign-Classifier-Project/blob/master/writeup_template.md) that can be used to guide the writing process. Completing the code template and writeup template will cover all of the [rubric points](https://review.udacity.com/#!/rubrics/481/view) for this project.\n",
    "\n",
    "The [rubric](https://review.udacity.com/#!/rubrics/481/view) contains \"Stand Out Suggestions\" for enhancing the project beyond the minimum requirements. The stand out suggestions are optional. If you decide to pursue the \"stand out suggestions\", you can include the code in this Ipython notebook and also discuss the results in the writeup file.\n",
    "\n",
    "\n",
    ">**Note:** Code and Markdown cells can be executed using the **Shift + Enter** keyboard shortcut. In addition, Markdown cells can be edited by typically double-clicking the cell to enter edit mode."
   ]
  },
  {
   "cell_type": "markdown",
   "metadata": {},
   "source": [
    "### Import all Python Packages"
   ]
  },
  {
   "cell_type": "code",
   "execution_count": 311,
   "metadata": {},
   "outputs": [],
   "source": [
    "#Define all imports here\n",
    "\n",
    "import pickle\n",
    "import numpy as np\n",
    "import matplotlib.pyplot as plt\n",
    "import random\n",
    "from sklearn.utils import shuffle\n",
    "import tensorflow as tf \n",
    "from tensorflow.contrib.layers import flatten\n",
    "import matplotlib.image as mpimg\n",
    "import os\n",
    "import cv2\n",
    "import csv"
   ]
  },
  {
   "cell_type": "markdown",
   "metadata": {},
   "source": [
    "---\n",
    "## Step 0: Load The Data"
   ]
  },
  {
   "cell_type": "code",
   "execution_count": 312,
   "metadata": {},
   "outputs": [],
   "source": [
    "# Load pickled data\n",
    "\n",
    "# Filled in according to the data obtained from: \n",
    "# https://s3-us-west-1.amazonaws.com/udacity-selfdrivingcar/traffic-signs-data.zip\n",
    "training_file = \"train.p\"\n",
    "validation_file= \"valid.p\"\n",
    "testing_file = \"test.p\"\n",
    "\n",
    "with open(training_file, mode='rb') as f:\n",
    "    train = pickle.load(f)\n",
    "with open(validation_file, mode='rb') as f:\n",
    "    valid = pickle.load(f)\n",
    "with open(testing_file, mode='rb') as f:\n",
    "    test = pickle.load(f)\n",
    "    \n",
    "X_train, y_train = train['features'], train['labels']\n",
    "X_valid, y_valid = valid['features'], valid['labels']\n",
    "X_test, y_test = test['features'], test['labels']"
   ]
  },
  {
   "cell_type": "markdown",
   "metadata": {},
   "source": [
    "---\n",
    "\n",
    "## Step 1: Dataset Summary & Exploration\n",
    "\n",
    "The pickled data is a dictionary with 4 key/value pairs:\n",
    "\n",
    "- `'features'` is a 4D array containing raw pixel data of the traffic sign images, (num examples, width, height, channels).\n",
    "- `'labels'` is a 1D array containing the label/class id of the traffic sign. The file `signnames.csv` contains id -> name mappings for each id.\n",
    "- `'sizes'` is a list containing tuples, (width, height) representing the original width and height the image.\n",
    "- `'coords'` is a list containing tuples, (x1, y1, x2, y2) representing coordinates of a bounding box around the sign in the image. **THESE COORDINATES ASSUME THE ORIGINAL IMAGE. THE PICKLED DATA CONTAINS RESIZED VERSIONS (32 by 32) OF THESE IMAGES**\n",
    "\n",
    "Complete the basic data summary below. Use python, numpy and/or pandas methods to calculate the data summary rather than hard coding the results. For example, the [pandas shape method](http://pandas.pydata.org/pandas-docs/stable/generated/pandas.DataFrame.shape.html) might be useful for calculating some of the summary results. "
   ]
  },
  {
   "cell_type": "markdown",
   "metadata": {},
   "source": [
    "### Provide a Basic Summary of the Data Set Using Python, Numpy and/or Pandas"
   ]
  },
  {
   "cell_type": "code",
   "execution_count": 313,
   "metadata": {},
   "outputs": [
    {
     "name": "stdout",
     "output_type": "stream",
     "text": [
      "Number of training examples = 34799\n",
      "Number of validation examples = 4410\n",
      "Number of testing examples = 12630\n",
      "Image data shape = (32, 32, 3)\n",
      "Number of classes = 43\n"
     ]
    }
   ],
   "source": [
    "### Replace each question mark with the appropriate value. \n",
    "### Use python, pandas or numpy methods rather than hard coding the results\n",
    "# Number of training examples, found from the length of the input\n",
    "n_train = len(X_train)\n",
    "\n",
    "# Number of validation examples, found from the length of the input\n",
    "n_validation = len(X_valid)\n",
    "\n",
    "# Number of Test Examples, found from the length of the input\n",
    "n_test = len(X_test)\n",
    "\n",
    "# Get the shape of an traffic sign image by taking any image from the set, and using the pandas .shape on it.\n",
    "image_shape = X_train[0].shape\n",
    "\n",
    "# To get the number of unique classes/labels there are in the dataset:\n",
    "# first get all unique labels, then get the length of that array.\n",
    "n_classes = len(numpy.unique(y_train)) \n",
    "\n",
    "print(\"Number of training examples =\", n_train)\n",
    "print(\"Number of validation examples =\", n_validation)\n",
    "print(\"Number of testing examples =\", n_test)\n",
    "print(\"Image data shape =\", image_shape)\n",
    "print(\"Number of classes =\", n_classes)"
   ]
  },
  {
   "cell_type": "markdown",
   "metadata": {},
   "source": [
    "### Include an exploratory visualization of the dataset"
   ]
  },
  {
   "cell_type": "markdown",
   "metadata": {},
   "source": [
    "Visualize the German Traffic Signs Dataset using the pickled file(s). This is open ended, suggestions include: plotting traffic sign images, plotting the count of each sign, etc. \n",
    "\n",
    "The [Matplotlib](http://matplotlib.org/) [examples](http://matplotlib.org/examples/index.html) and [gallery](http://matplotlib.org/gallery.html) pages are a great resource for doing visualizations in Python.\n",
    "\n",
    "**NOTE:** It's recommended you start with something simple first. If you wish to do more, come back to it after you've completed the rest of the sections. It can be interesting to look at the distribution of classes in the training, validation and test set. Is the distribution the same? Are there more examples of some classes than others?"
   ]
  },
  {
   "cell_type": "code",
   "execution_count": 316,
   "metadata": {},
   "outputs": [
    {
     "data": {
      "image/png": "[encoded data removed]",
      "text/plain": [
       "<Figure size 72x72 with 1 Axes>"
      ]
     },
     "metadata": {},
     "output_type": "display_data"
    },
    {
     "data": {
      "image/png": "[encoded data removed]",
      "text/plain": [
       "<Figure size 72x72 with 1 Axes>"
      ]
     },
     "metadata": {},
     "output_type": "display_data"
    },
    {
     "data": {
      "image/png": "[encoded data removed]",
      "text/plain": [
       "<Figure size 72x72 with 1 Axes>"
      ]
     },
     "metadata": {},
     "output_type": "display_data"
    },
    {
     "data": {
      "image/png": "[encoded data removed]",
      "text/plain": [
       "<Figure size 72x72 with 1 Axes>"
      ]
     },
     "metadata": {},
     "output_type": "display_data"
    },
    {
     "data": {
      "image/png": "[encoded data removed]",
      "text/plain": [
       "<Figure size 72x72 with 1 Axes>"
      ]
     },
     "metadata": {},
     "output_type": "display_data"
    }
   ],
   "source": [
    "### Data exploration visualization code goes here.\n",
    "### Feel free to use as many code cells as needed.\n",
    "# Visualizations will be shown in the notebook.\n",
    "%matplotlib inline\n",
    "#randomly pick and show 5 images\n",
    "for i in range(0,5):\n",
    "    index = random.randint(0, len(X_train))\n",
    "    image = X_train[index].squeeze()\n",
    "    plt.figure(figsize=(1,1))\n",
    "    plt.imshow(image)\n",
    "    plt.title(y_train[index])\n"
   ]
  },
  {
   "cell_type": "code",
   "execution_count": 290,
   "metadata": {},
   "outputs": [
    {
     "data": {
      "text/plain": [
       "(array([ 180., 1980., 2010., 1260., 1770., 1650.,  360., 1290., 1260.,\n",
       "        1320., 1800., 1170., 1890., 1920.,  690.,  540.,  360.,  990.,\n",
       "        1080.,  180.,  300.,  270.,  330.,  450.,  240., 1350.,  540.,\n",
       "         210.,  480.,  240.,  390.,  690.,  210.,  599.,  360., 1080.,\n",
       "         330.,  180., 1860.,  270.,  300.,  420.]),\n",
       " array([ 0,  1,  2,  3,  4,  5,  6,  7,  8,  9, 10, 11, 12, 13, 14, 15, 16,\n",
       "        17, 18, 19, 20, 21, 22, 23, 24, 25, 26, 27, 28, 29, 30, 31, 32, 33,\n",
       "        34, 35, 36, 37, 38, 39, 40, 41, 42], dtype=uint8),\n",
       " <a list of 42 Patch objects>)"
      ]
     },
     "execution_count": 290,
     "metadata": {},
     "output_type": "execute_result"
    },
    {
     "data": {
      "image/png": "[encoded data removed]",
      "text/plain": [
       "<Figure size 432x288 with 1 Axes>"
      ]
     },
     "metadata": {},
     "output_type": "display_data"
    }
   ],
   "source": [
    "# Show the distribution of the Training Set\n",
    "plt.title(\"Training Set Counts\")\n",
    "plt.hist(y_train, bins=numpy.unique(y_train), label=numpy.unique(y_train))"
   ]
  },
  {
   "cell_type": "code",
   "execution_count": 226,
   "metadata": {},
   "outputs": [
    {
     "data": {
      "text/plain": [
       "(array([ 30., 240., 240., 150., 210., 210.,  60., 150., 150., 150., 210.,\n",
       "        150., 210., 240.,  90.,  90.,  60., 120., 120.,  30.,  60.,  60.,\n",
       "         60.,  60.,  30., 150.,  60.,  30.,  60.,  30.,  60.,  90.,  30.,\n",
       "         90.,  60., 120.,  60.,  30., 210.,  30.,  60.,  60.]),\n",
       " array([ 0,  1,  2,  3,  4,  5,  6,  7,  8,  9, 10, 11, 12, 13, 14, 15, 16,\n",
       "        17, 18, 19, 20, 21, 22, 23, 24, 25, 26, 27, 28, 29, 30, 31, 32, 33,\n",
       "        34, 35, 36, 37, 38, 39, 40, 41, 42], dtype=uint8),\n",
       " <a list of 42 Patch objects>)"
      ]
     },
     "execution_count": 226,
     "metadata": {},
     "output_type": "execute_result"
    },
    {
     "data": {
      "image/png": "[encoded data removed]",
      "text/plain": [
       "<Figure size 432x288 with 1 Axes>"
      ]
     },
     "metadata": {},
     "output_type": "display_data"
    }
   ],
   "source": [
    "# Show the distribution of the Validation Set\n",
    "plt.title(\"Validation Set Counts\")\n",
    "plt.hist(y_valid, bins=numpy.unique(y_valid), label=numpy.unique(y_valid))"
   ]
  },
  {
   "cell_type": "code",
   "execution_count": 227,
   "metadata": {},
   "outputs": [
    {
     "data": {
      "text/plain": [
       "(array([ 60., 720., 750., 450., 660., 630., 150., 450., 450., 480., 660.,\n",
       "        420., 690., 720., 270., 210., 150., 360., 390.,  60.,  90.,  90.,\n",
       "        120., 150.,  90., 480., 180.,  60., 150.,  90., 150., 270.,  60.,\n",
       "        210., 120., 390., 120.,  60., 690.,  90.,  90., 150.]),\n",
       " array([ 0,  1,  2,  3,  4,  5,  6,  7,  8,  9, 10, 11, 12, 13, 14, 15, 16,\n",
       "        17, 18, 19, 20, 21, 22, 23, 24, 25, 26, 27, 28, 29, 30, 31, 32, 33,\n",
       "        34, 35, 36, 37, 38, 39, 40, 41, 42], dtype=uint8),\n",
       " <a list of 42 Patch objects>)"
      ]
     },
     "execution_count": 227,
     "metadata": {},
     "output_type": "execute_result"
    },
    {
     "data": {
      "image/png": "[encoded data removed]",
      "text/plain": [
       "<Figure size 432x288 with 1 Axes>"
      ]
     },
     "metadata": {},
     "output_type": "display_data"
    }
   ],
   "source": [
    "# Show the distribution of the Test Set\n",
    "plt.title(\"Test Set Counts\")\n",
    "plt.hist(y_test, bins=numpy.unique(y_test), label=numpy.unique(y_test))"
   ]
  },
  {
   "cell_type": "markdown",
   "metadata": {},
   "source": [
    "----\n",
    "\n",
    "## Step 2: Design and Test a Model Architecture\n",
    "\n",
    "Design and implement a deep learning model that learns to recognize traffic signs. Train and test your model on the [German Traffic Sign Dataset](http://benchmark.ini.rub.de/?section=gtsrb&subsection=dataset).\n",
    "\n",
    "The LeNet-5 implementation shown in the [classroom](https://classroom.udacity.com/nanodegrees/nd013/parts/fbf77062-5703-404e-b60c-95b78b2f3f9e/modules/6df7ae49-c61c-4bb2-a23e-6527e69209ec/lessons/601ae704-1035-4287-8b11-e2c2716217ad/concepts/d4aca031-508f-4e0b-b493-e7b706120f81) at the end of the CNN lesson is a solid starting point. You'll have to change the number of classes and possibly the preprocessing, but aside from that it's plug and play! \n",
    "\n",
    "With the LeNet-5 solution from the lecture, you should expect a validation set accuracy of about 0.89. To meet specifications, the validation set accuracy will need to be at least 0.93. It is possible to get an even higher accuracy, but 0.93 is the minimum for a successful project submission. \n",
    "\n",
    "There are various aspects to consider when thinking about this problem:\n",
    "\n",
    "- Neural network architecture (is the network over or underfitting?)\n",
    "- Play around preprocessing techniques (normalization, rgb to grayscale, etc)\n",
    "- Number of examples per label (some have more than others).\n",
    "- Generate fake data.\n",
    "\n",
    "Here is an example of a [published baseline model on this problem](http://yann.lecun.com/exdb/publis/pdf/sermanet-ijcnn-11.pdf). It's not required to be familiar with the approach used in the paper but, it's good practice to try to read papers like these."
   ]
  },
  {
   "cell_type": "markdown",
   "metadata": {},
   "source": [
    "### Pre-process the Data Set (normalization, grayscale, etc.)"
   ]
  },
  {
   "cell_type": "markdown",
   "metadata": {},
   "source": [
    "Minimally, the image data should be normalized so that the data has mean zero and equal variance. For image data, `(pixel - 128)/ 128` is a quick way to approximately normalize the data and can be used in this project. \n",
    "\n",
    "Other pre-processing steps are optional. You can try different techniques to see if it improves performance. \n",
    "\n",
    "Use the code cell (or multiple code cells, if necessary) to implement the first step of your project."
   ]
  },
  {
   "cell_type": "code",
   "execution_count": 317,
   "metadata": {},
   "outputs": [
    {
     "name": "stderr",
     "output_type": "stream",
     "text": [
      "Clipping input data to the valid range for imshow with RGB data ([0..1] for floats or [0..255] for integers).\n"
     ]
    },
    {
     "data": {
      "text/plain": [
       "<matplotlib.image.AxesImage at 0x159c4dd68>"
      ]
     },
     "execution_count": 317,
     "metadata": {},
     "output_type": "execute_result"
    },
    {
     "data": {
      "image/png": "[encoded data removed]",
      "text/plain": [
       "<Figure size 72x72 with 1 Axes>"
      ]
     },
     "metadata": {},
     "output_type": "display_data"
    },
    {
     "data": {
      "image/png": "[encoded data removed]",
      "text/plain": [
       "<Figure size 72x72 with 1 Axes>"
      ]
     },
     "metadata": {},
     "output_type": "display_data"
    }
   ],
   "source": [
    "### Preprocess the data here. It is required to normalize the data. Other preprocessing steps could include \n",
    "### converting to grayscale, etc.\n",
    "### Feel free to use as many code cells as needed.\n",
    "\n",
    "def normalize(x):\n",
    "    #x = np.uint8(x)\n",
    "    #x = cv2.cvtColor(x, cv2.COLOR_BGR2GRAY)\n",
    "    return (x - 128.)/128.\n",
    "\n",
    "#print(type(X_train[0]))\n",
    "#Show the image pre normalization\n",
    "plt.figure(figsize=(1,1))\n",
    "plt.imshow(X_train[5024].squeeze())\n",
    "    \n",
    "X_train = np.array([normalize(image) for image in X_train])\n",
    "    \n",
    "X_test = np.array([normalize(image) for image in X_test])\n",
    "\n",
    "X_valid = np.array([normalize(image) for image in X_valid])\n",
    "\n",
    "#X_train, y_train = shuffle(X_train, y_train)\n",
    "\n",
    "#Show the image post normalization\n",
    "plt.figure(figsize=(1,1))\n",
    "plt.imshow(X_train[5024].squeeze())"
   ]
  },
  {
   "cell_type": "markdown",
   "metadata": {},
   "source": [
    "#### HyperParameter Declarations"
   ]
  },
  {
   "cell_type": "code",
   "execution_count": 318,
   "metadata": {},
   "outputs": [],
   "source": [
    "N_CLASSES = 43\n",
    "MU = 0\n",
    "SIGMA = .1\n",
    "EPOCHS = 100\n",
    "BATCH_SIZE = 128\n",
    "KEEP_PROB = .9\n",
    "RATE  =  0.001\n"
   ]
  },
  {
   "cell_type": "markdown",
   "metadata": {},
   "source": [
    "### Model Architecture"
   ]
  },
  {
   "cell_type": "code",
   "execution_count": 230,
   "metadata": {},
   "outputs": [],
   "source": [
    "### Define your architecture here.\n",
    "### Feel free to use as many code cells as needed.\n",
    "\n",
    "def conv2d(x, W, b, strides=1):\n",
    "    x = tf.nn.conv2d(x, W, strides=[1, strides, strides, 1], padding='VALID')\n",
    "    x = tf.nn.bias_add(x, b)\n",
    "    return tf.nn.relu(x)\n",
    "    \n",
    "def maxpool2d(x, k=2):\n",
    "    return tf.nn.max_pool(\n",
    "    x,\n",
    "    ksize=[1,k,k,1],\n",
    "    strides=[1,k,k,1],\n",
    "    padding = 'SAME')\n",
    "\n",
    "def LeNet(x):    \n",
    "    # Arguments used for tf.truncated_normal, randomly defines variables for the weights and biases for each layer\n",
    "    \n",
    "    weights = {\n",
    "        'wc1': tf.Variable(tf.truncated_normal(shape=(5,5,3,6), mean = MU, stddev = SIGMA)),\n",
    "        'wc2': tf.Variable(tf.truncated_normal(shape=(5,5,6,16), mean = MU, stddev = SIGMA)),\n",
    "        'wfc2': tf.Variable(tf.truncated_normal(shape=(400,120), mean = MU, stddev = SIGMA)),\n",
    "        'wfc3': tf.Variable(tf.truncated_normal(shape=(120,84), mean = MU, stddev = SIGMA)),\n",
    "        'out': tf.Variable(tf.truncated_normal(shape=(84,N_CLASSES), mean = MU, stddev = SIGMA))\n",
    "    }\n",
    "    biases = {\n",
    "        'bc1': tf.Variable(tf.zeros(6)),\n",
    "        'bc2': tf.Variable(tf.zeros(16)),\n",
    "        'bfc2': tf.Variable(tf.zeros(120)),\n",
    "        'bfc3': tf.Variable(tf.zeros(84)),\n",
    "        'out': tf.Variable(tf.zeros(N_CLASSES))\n",
    "    }\n",
    "    # Layer 1: Convolutional.\n",
    "    conv1 = conv2d(x, weights['wc1'], biases['bc1'], strides=1)\n",
    "   \n",
    "    # Layer 1 Pooling. \n",
    "    conv1 = maxpool2d(conv1,2)\n",
    "    # Layer 2: Convolutional.\n",
    "    conv2 = conv2d(conv1, weights['wc2'], biases['bc2'], strides=1)\n",
    "   \n",
    "    # Pooling. \n",
    "    conv2 = maxpool2d(conv2,2)\n",
    "  \n",
    "    # Flatten.\n",
    "    fc1 = flatten(conv2)\n",
    "\n",
    "    # Layer 3: Fully Connected. \n",
    "    fc2 = tf.matmul(fc1, weights['wfc2'])\n",
    "    fc2 = tf.nn.bias_add(fc2, biases['bfc2'])\n",
    "    \n",
    "    # Activation.\n",
    "    fc2 = tf.nn.relu(fc2)\n",
    "    \n",
    "    # Apply Dropout\n",
    "    fc2 = tf.nn.dropout(fc2,keep_prob) \n",
    "    \n",
    "    #  Layer 4: Fully Connected.\n",
    "    fc3 = tf.matmul(fc2,weights['wfc3'])\n",
    "    fc3 = tf.nn.bias_add(fc3, biases['bfc3'])               \n",
    "    # Activation.\n",
    "    fc3 = tf.nn.relu(fc3)\n",
    "    \n",
    "    # Apply Dropout\n",
    "    fc3 = tf.nn.dropout(fc3,keep_prob)    \n",
    "    \n",
    "    #  Layer 5: Fully Connected. \n",
    "    out = tf.matmul(fc3, weights['out'])\n",
    "    logits = tf.nn.bias_add(out, biases['out'])\n",
    "    return logits"
   ]
  },
  {
   "cell_type": "markdown",
   "metadata": {},
   "source": [
    "### Train, Validate and Test the Model"
   ]
  },
  {
   "cell_type": "markdown",
   "metadata": {},
   "source": [
    "A validation set can be used to assess how well the model is performing. A low accuracy on the training and validation\n",
    "sets imply underfitting. A high accuracy on the training set but low accuracy on the validation set implies overfitting."
   ]
  },
  {
   "cell_type": "code",
   "execution_count": 231,
   "metadata": {},
   "outputs": [
    {
     "name": "stdout",
     "output_type": "stream",
     "text": [
      "Training...\n",
      "\n",
      "EPOCH 1 ...\n",
      "Validation Accuracy = 0.734\n",
      "\n",
      "EPOCH 2 ...\n",
      "Validation Accuracy = 0.862\n",
      "\n",
      "EPOCH 3 ...\n",
      "Validation Accuracy = 0.893\n",
      "\n",
      "EPOCH 4 ...\n",
      "Validation Accuracy = 0.906\n",
      "\n",
      "EPOCH 5 ...\n",
      "Validation Accuracy = 0.906\n",
      "\n",
      "EPOCH 6 ...\n",
      "Validation Accuracy = 0.922\n",
      "\n",
      "EPOCH 7 ...\n",
      "Validation Accuracy = 0.915\n",
      "\n",
      "EPOCH 8 ...\n",
      "Validation Accuracy = 0.920\n",
      "\n",
      "EPOCH 9 ...\n",
      "Validation Accuracy = 0.926\n",
      "\n",
      "EPOCH 10 ...\n",
      "Validation Accuracy = 0.924\n",
      "\n",
      "EPOCH 11 ...\n",
      "Validation Accuracy = 0.936\n",
      "\n",
      "EPOCH 12 ...\n",
      "Validation Accuracy = 0.924\n",
      "\n",
      "EPOCH 13 ...\n",
      "Validation Accuracy = 0.921\n",
      "\n",
      "EPOCH 14 ...\n",
      "Validation Accuracy = 0.929\n",
      "\n",
      "EPOCH 15 ...\n",
      "Validation Accuracy = 0.929\n",
      "\n",
      "EPOCH 16 ...\n",
      "Validation Accuracy = 0.929\n",
      "\n",
      "EPOCH 17 ...\n",
      "Validation Accuracy = 0.933\n",
      "\n",
      "EPOCH 18 ...\n",
      "Validation Accuracy = 0.930\n",
      "\n",
      "EPOCH 19 ...\n",
      "Validation Accuracy = 0.933\n",
      "\n",
      "EPOCH 20 ...\n",
      "Validation Accuracy = 0.933\n",
      "\n",
      "EPOCH 21 ...\n",
      "Validation Accuracy = 0.938\n",
      "\n",
      "EPOCH 22 ...\n",
      "Validation Accuracy = 0.937\n",
      "\n",
      "EPOCH 23 ...\n",
      "Validation Accuracy = 0.948\n",
      "\n",
      "EPOCH 24 ...\n",
      "Validation Accuracy = 0.928\n",
      "\n",
      "EPOCH 25 ...\n",
      "Validation Accuracy = 0.943\n",
      "\n",
      "EPOCH 26 ...\n",
      "Validation Accuracy = 0.924\n",
      "\n",
      "EPOCH 27 ...\n",
      "Validation Accuracy = 0.947\n",
      "\n",
      "EPOCH 28 ...\n",
      "Validation Accuracy = 0.945\n",
      "\n",
      "EPOCH 29 ...\n",
      "Validation Accuracy = 0.944\n",
      "\n",
      "EPOCH 30 ...\n",
      "Validation Accuracy = 0.949\n",
      "\n",
      "EPOCH 31 ...\n",
      "Validation Accuracy = 0.932\n",
      "\n",
      "EPOCH 32 ...\n",
      "Validation Accuracy = 0.946\n",
      "\n",
      "EPOCH 33 ...\n",
      "Validation Accuracy = 0.943\n",
      "\n",
      "EPOCH 34 ...\n",
      "Validation Accuracy = 0.933\n",
      "\n",
      "EPOCH 35 ...\n",
      "Validation Accuracy = 0.945\n",
      "\n",
      "EPOCH 36 ...\n",
      "Validation Accuracy = 0.946\n",
      "\n",
      "EPOCH 37 ...\n",
      "Validation Accuracy = 0.951\n",
      "\n",
      "EPOCH 38 ...\n",
      "Validation Accuracy = 0.949\n",
      "\n",
      "EPOCH 39 ...\n",
      "Validation Accuracy = 0.949\n",
      "\n",
      "EPOCH 40 ...\n",
      "Validation Accuracy = 0.947\n",
      "\n",
      "EPOCH 41 ...\n",
      "Validation Accuracy = 0.952\n",
      "\n",
      "EPOCH 42 ...\n",
      "Validation Accuracy = 0.946\n",
      "\n",
      "EPOCH 43 ...\n",
      "Validation Accuracy = 0.945\n",
      "\n",
      "EPOCH 44 ...\n",
      "Validation Accuracy = 0.943\n",
      "\n",
      "EPOCH 45 ...\n",
      "Validation Accuracy = 0.948\n",
      "\n",
      "EPOCH 46 ...\n",
      "Validation Accuracy = 0.941\n",
      "\n",
      "EPOCH 47 ...\n",
      "Validation Accuracy = 0.948\n",
      "\n",
      "EPOCH 48 ...\n",
      "Validation Accuracy = 0.947\n",
      "\n",
      "EPOCH 49 ...\n",
      "Validation Accuracy = 0.952\n",
      "\n",
      "EPOCH 50 ...\n",
      "Validation Accuracy = 0.948\n",
      "\n",
      "EPOCH 51 ...\n",
      "Validation Accuracy = 0.948\n",
      "\n",
      "EPOCH 52 ...\n",
      "Validation Accuracy = 0.948\n",
      "\n",
      "EPOCH 53 ...\n",
      "Validation Accuracy = 0.959\n",
      "\n",
      "EPOCH 54 ...\n",
      "Validation Accuracy = 0.954\n",
      "\n",
      "EPOCH 55 ...\n",
      "Validation Accuracy = 0.946\n",
      "\n",
      "EPOCH 56 ...\n",
      "Validation Accuracy = 0.944\n",
      "\n",
      "EPOCH 57 ...\n",
      "Validation Accuracy = 0.949\n",
      "\n",
      "EPOCH 58 ...\n",
      "Validation Accuracy = 0.942\n",
      "\n",
      "EPOCH 59 ...\n",
      "Validation Accuracy = 0.963\n",
      "\n",
      "EPOCH 60 ...\n",
      "Validation Accuracy = 0.952\n",
      "\n",
      "EPOCH 61 ...\n",
      "Validation Accuracy = 0.944\n",
      "\n",
      "EPOCH 62 ...\n",
      "Validation Accuracy = 0.946\n",
      "\n",
      "EPOCH 63 ...\n",
      "Validation Accuracy = 0.949\n",
      "\n",
      "EPOCH 64 ...\n",
      "Validation Accuracy = 0.955\n",
      "\n",
      "EPOCH 65 ...\n",
      "Validation Accuracy = 0.952\n",
      "\n",
      "EPOCH 66 ...\n",
      "Validation Accuracy = 0.946\n",
      "\n",
      "EPOCH 67 ...\n",
      "Validation Accuracy = 0.948\n",
      "\n",
      "EPOCH 68 ...\n",
      "Validation Accuracy = 0.954\n",
      "\n",
      "EPOCH 69 ...\n",
      "Validation Accuracy = 0.948\n",
      "\n",
      "EPOCH 70 ...\n",
      "Validation Accuracy = 0.944\n",
      "\n",
      "EPOCH 71 ...\n",
      "Validation Accuracy = 0.946\n",
      "\n",
      "EPOCH 72 ...\n",
      "Validation Accuracy = 0.956\n",
      "\n",
      "EPOCH 73 ...\n",
      "Validation Accuracy = 0.944\n",
      "\n",
      "EPOCH 74 ...\n",
      "Validation Accuracy = 0.942\n",
      "\n",
      "EPOCH 75 ...\n",
      "Validation Accuracy = 0.953\n",
      "\n",
      "EPOCH 76 ...\n",
      "Validation Accuracy = 0.955\n",
      "\n",
      "EPOCH 77 ...\n",
      "Validation Accuracy = 0.944\n",
      "\n",
      "EPOCH 78 ...\n",
      "Validation Accuracy = 0.950\n",
      "\n",
      "EPOCH 79 ...\n",
      "Validation Accuracy = 0.954\n",
      "\n",
      "EPOCH 80 ...\n",
      "Validation Accuracy = 0.943\n",
      "\n",
      "EPOCH 81 ...\n",
      "Validation Accuracy = 0.949\n",
      "\n",
      "EPOCH 82 ...\n",
      "Validation Accuracy = 0.934\n",
      "\n",
      "EPOCH 83 ...\n",
      "Validation Accuracy = 0.927\n",
      "\n",
      "EPOCH 84 ...\n",
      "Validation Accuracy = 0.948\n",
      "\n",
      "EPOCH 85 ...\n",
      "Validation Accuracy = 0.938\n",
      "\n",
      "EPOCH 86 ...\n",
      "Validation Accuracy = 0.949\n",
      "\n",
      "EPOCH 87 ...\n",
      "Validation Accuracy = 0.935\n",
      "\n",
      "EPOCH 88 ...\n",
      "Validation Accuracy = 0.951\n",
      "\n",
      "EPOCH 89 ...\n",
      "Validation Accuracy = 0.954\n",
      "\n",
      "EPOCH 90 ...\n",
      "Validation Accuracy = 0.954\n",
      "\n",
      "EPOCH 91 ...\n",
      "Validation Accuracy = 0.956\n",
      "\n",
      "EPOCH 92 ...\n",
      "Validation Accuracy = 0.940\n",
      "\n",
      "EPOCH 93 ...\n",
      "Validation Accuracy = 0.952\n",
      "\n",
      "EPOCH 94 ...\n",
      "Validation Accuracy = 0.956\n",
      "\n",
      "EPOCH 95 ...\n",
      "Validation Accuracy = 0.959\n",
      "\n",
      "EPOCH 96 ...\n",
      "Validation Accuracy = 0.956\n",
      "\n",
      "EPOCH 97 ...\n",
      "Validation Accuracy = 0.962\n",
      "\n",
      "EPOCH 98 ...\n",
      "Validation Accuracy = 0.955\n",
      "\n",
      "EPOCH 99 ...\n",
      "Validation Accuracy = 0.951\n",
      "\n",
      "EPOCH 100 ...\n",
      "Validation Accuracy = 0.949\n",
      "\n",
      "Model saved\n",
      "Finding Test Accuracy:\n",
      "Test Accuracy= 0.935\n"
     ]
    }
   ],
   "source": [
    "### Train your model here.\n",
    "### Calculate and report the accuracy on the training and validation set.\n",
    "### Once a final model architecture is selected, \n",
    "### the accuracy on the test set should be calculated and reported as well.\n",
    "### Feel free to use as many code cells as needed.\n",
    "\n",
    "# inputs\n",
    "x = tf.placeholder(tf.float32, (None, 32, 32, 3))\n",
    "y = tf.placeholder(tf.int32, (None))\n",
    "one_hot_y = tf.one_hot(y, N_CLASSES)\n",
    "\n",
    "# dropout placeholder\n",
    "keep_prob = tf.placeholder(tf.float32)\n",
    "\n",
    "# Training Pipeline\n",
    "logits =  LeNet(x)\n",
    "cross_entropy = tf.nn.softmax_cross_entropy_with_logits(labels=one_hot_y, logits=logits)\n",
    "loss_operation = tf.reduce_mean(cross_entropy)\n",
    "optimizer = tf.train.AdamOptimizer(learning_rate = RATE)\n",
    "training_operation = optimizer.minimize(loss_operation)\n",
    "\n",
    "# Evaluate\n",
    "correct_prediction = tf.equal(tf.argmax(logits, 1), tf.argmax(one_hot_y, 1))\n",
    "accuracy_operation = tf.reduce_mean(tf.cast(correct_prediction, tf.float32))\n",
    "saver = tf.train.Saver()\n",
    "\n",
    "def evaluate(X_data, y_data):\n",
    "    num_examples = len(X_data)\n",
    "    total_accuracy = 0\n",
    "    sess = tf.get_default_session()\n",
    "    for offset in range(0, num_examples, BATCH_SIZE):\n",
    "        batch_x, batch_y = X_data[offset:offset+BATCH_SIZE], y_data[offset:offset+BATCH_SIZE]\n",
    "        accuracy = sess.run(accuracy_operation, feed_dict={x: batch_x, y: batch_y, keep_prob: 1.0})\n",
    "        total_accuracy += (accuracy * len(batch_x))\n",
    "    return total_accuracy / num_examples\n",
    "\n",
    "with tf.Session() as sess:\n",
    "    sess.run(tf.global_variables_initializer())\n",
    "    num_examples = len(X_train)\n",
    "    \n",
    "    print(\"Training...\")\n",
    "    print()\n",
    "    for i in range(EPOCHS):\n",
    "        X_train, y_train = shuffle(X_train, y_train)\n",
    "        for offset in range(0, num_examples, BATCH_SIZE):\n",
    "            end = offset + BATCH_SIZE\n",
    "            batch_x, batch_y = X_train[offset:end], y_train[offset:end]\n",
    "            sess.run(training_operation, feed_dict={x: batch_x, y: batch_y, keep_prob: KEEP_PROB})\n",
    "            \n",
    "        validation_accuracy = evaluate(X_valid, y_valid)\n",
    "        print(\"EPOCH {} ...\".format(i+1))\n",
    "        print(\"Validation Accuracy = {:.3f}\".format(validation_accuracy))\n",
    "        print()\n",
    "        \n",
    "    saver.save(sess, './lenet')\n",
    "    print(\"Model saved\")\n",
    "    print(\"Finding Test Accuracy:\")\n",
    "    accuracy = evaluate(X_test,y_test)\n",
    "    print(\"Test Accuracy= {:.3f}\".format(accuracy))"
   ]
  },
  {
   "cell_type": "markdown",
   "metadata": {},
   "source": [
    "---\n",
    "\n",
    "## Step 3: Test a Model on New Images\n",
    "\n",
    "To give yourself more insight into how your model is working, download at least five pictures of German traffic signs from the web and use your model to predict the traffic sign type.\n",
    "\n",
    "You may find `signnames.csv` useful as it contains mappings from the class id (integer) to the actual sign name."
   ]
  },
  {
   "cell_type": "markdown",
   "metadata": {},
   "source": [
    "### Load and Output the Images"
   ]
  },
  {
   "cell_type": "code",
   "execution_count": 262,
   "metadata": {},
   "outputs": [
    {
     "data": {
      "image/png": "[encoded data removed]",
      "text/plain": [
       "<Figure size 432x288 with 1 Axes>"
      ]
     },
     "metadata": {},
     "output_type": "display_data"
    },
    {
     "data": {
      "image/png": "[encoded data removed]",
      "text/plain": [
       "<Figure size 432x288 with 1 Axes>"
      ]
     },
     "metadata": {},
     "output_type": "display_data"
    },
    {
     "data": {
      "image/png": "[encoded data removed]",
      "text/plain": [
       "<Figure size 432x288 with 1 Axes>"
      ]
     },
     "metadata": {},
     "output_type": "display_data"
    },
    {
     "data": {
      "image/png": "[encoded data removed]",
      "text/plain": [
       "<Figure size 432x288 with 1 Axes>"
      ]
     },
     "metadata": {},
     "output_type": "display_data"
    },
    {
     "data": {
      "image/png": "[encoded data removed]",
      "text/plain": [
       "<Figure size 432x288 with 1 Axes>"
      ]
     },
     "metadata": {},
     "output_type": "display_data"
    }
   ],
   "source": [
    "### Load the images and plot them here.\n",
    "### Feel free to use as many code cells as needed.\n",
    "\n",
    "%matplotlib inline\n",
    "#Read in the signnames so that we can use human readable strings as results\n",
    "signnames = []\n",
    "with open(\"signnames.csv\") as f:\n",
    "    reader = csv.reader(f)\n",
    "    next(reader)\n",
    "    for row in reader:\n",
    "        signnames.append(row)\n",
    "\n",
    "#Images:\n",
    "for filename in os.listdir(\"5_test_images\"):\n",
    "    #Read in the image\n",
    "    image = mpimg.imread(\"5_test_images/\" + filename)\n",
    "    #show image\n",
    "    plt.imshow(image)\n",
    "    plt.show()\n",
    "    "
   ]
  },
  {
   "cell_type": "markdown",
   "metadata": {},
   "source": [
    "### Predict the Sign Type for Each Image"
   ]
  },
  {
   "cell_type": "code",
   "execution_count": 266,
   "metadata": {},
   "outputs": [
    {
     "name": "stdout",
     "output_type": "stream",
     "text": [
      "Filename: traffic-light-sign.jpg\n",
      "Prediction Number: 10\n",
      "Prediction String: No passing for vehicles over 3.5 metric tons\n",
      "Filename: german-yield-sign.jpg\n",
      "Prediction Number: 13\n",
      "Prediction String: Yield\n",
      "Filename: 20kmph-sign.jpg\n",
      "Prediction Number: 35\n",
      "Prediction String: Ahead only\n",
      "Filename: do-not-enter-sign.jpg\n",
      "Prediction Number: 17\n",
      "Prediction String: No entry\n",
      "Filename: do-not-pass-sign.jpg\n",
      "Prediction Number: 9\n",
      "Prediction String: No passing\n"
     ]
    }
   ],
   "source": [
    "### Run the predictions here and use the model to output the prediction for each image.\n",
    "### Make sure to pre-process the images with the same pre-processing pipeline used earlier.\n",
    "### Feel free to use as many code cells as needed.\n",
    "\n",
    "X_test_found = []\n",
    "filename_array = []\n",
    "for filename in os.listdir(\"5_test_images\"):\n",
    "    #Read in the image and normalize it.  Put it into an array that we will process\n",
    "    X_test_found.append(normalize(mpimg.imread('5_test_images/'+filename)))\n",
    "    filename_array.append(filename)\n",
    "\n",
    "with tf.Session() as session:\n",
    "    saver.restore(session, tf.train.latest_checkpoint(\".\"))\n",
    "    #here, we will run lenet on our test images\n",
    "    output = session.run(logits,feed_dict={x: X_test_found, keep_prob: 1.0})\n",
    "    #Get the prediction by using np.argmax()\n",
    "    prediction = np.argmax(output, axis=1)\n",
    "    for i in range(0, len(filename_array)):\n",
    "        print(\"Filename: \" + filename_array[i])\n",
    "        print(\"Prediction Number: \" + str(prediction[i]))\n",
    "        print(\"Prediction String: \" + str(signnames[prediction[i]][1]))\n",
    "    \n",
    "    session.close()\n",
    "    "
   ]
  },
  {
   "cell_type": "markdown",
   "metadata": {},
   "source": [
    "### Analyze Performance"
   ]
  },
  {
   "cell_type": "code",
   "execution_count": 245,
   "metadata": {},
   "outputs": [
    {
     "name": "stdout",
     "output_type": "stream",
     "text": [
      "Accuracy= 0.600\n"
     ]
    }
   ],
   "source": [
    "### Calculate the accuracy for these 5 new images. \n",
    "### For example, if the model predicted 1 out of 5 signs correctly, it's 20% accurate on these new images.\n",
    "answers = [26,13,0,17, 9]\n",
    "correct = 0\n",
    "number_of_entries = len(answers)\n",
    "for i in range (0,len(answers)):\n",
    "    if answers[i] == prediction[i]:\n",
    "        correct += 1\n",
    "found_accuracy = correct/number_of_entries\n",
    "print(\"Accuracy= {:.3f}\".format(found_accuracy))\n",
    "    "
   ]
  },
  {
   "cell_type": "markdown",
   "metadata": {},
   "source": [
    "### Output Top 5 Softmax Probabilities For Each Image Found on the Web"
   ]
  },
  {
   "cell_type": "markdown",
   "metadata": {},
   "source": [
    "For each of the new images, print out the model's softmax probabilities to show the **certainty** of the model's predictions (limit the output to the top 5 probabilities for each image). [`tf.nn.top_k`](https://www.tensorflow.org/versions/r0.12/api_docs/python/nn.html#top_k) could prove helpful here. \n",
    "\n",
    "The example below demonstrates how tf.nn.top_k can be used to find the top k predictions for each image.\n",
    "\n",
    "`tf.nn.top_k` will return the values and indices (class ids) of the top k predictions. So if k=3, for each sign, it'll return the 3 largest probabilities (out of a possible 43) and the correspoding class ids.\n",
    "\n",
    "Take this numpy array as an example. The values in the array represent predictions. The array contains softmax probabilities for five candidate images with six possible classes. `tf.nn.top_k` is used to choose the three classes with the highest probability:\n",
    "\n",
    "```\n",
    "# (5, 6) array\n",
    "a = np.array([[ 0.24879643,  0.07032244,  0.12641572,  0.34763842,  0.07893497,\n",
    "         0.12789202],\n",
    "       [ 0.28086119,  0.27569815,  0.08594638,  0.0178669 ,  0.18063401,\n",
    "         0.15899337],\n",
    "       [ 0.26076848,  0.23664738,  0.08020603,  0.07001922,  0.1134371 ,\n",
    "         0.23892179],\n",
    "       [ 0.11943333,  0.29198961,  0.02605103,  0.26234032,  0.1351348 ,\n",
    "         0.16505091],\n",
    "       [ 0.09561176,  0.34396535,  0.0643941 ,  0.16240774,  0.24206137,\n",
    "         0.09155967]])\n",
    "```\n",
    "\n",
    "Running it through `sess.run(tf.nn.top_k(tf.constant(a), k=3))` produces:\n",
    "\n",
    "```\n",
    "TopKV2(values=array([[ 0.34763842,  0.24879643,  0.12789202],\n",
    "       [ 0.28086119,  0.27569815,  0.18063401],\n",
    "       [ 0.26076848,  0.23892179,  0.23664738],\n",
    "       [ 0.29198961,  0.26234032,  0.16505091],\n",
    "       [ 0.34396535,  0.24206137,  0.16240774]]), indices=array([[3, 0, 5],\n",
    "       [0, 1, 4],\n",
    "       [0, 5, 1],\n",
    "       [1, 3, 5],\n",
    "       [1, 4, 3]], dtype=int32))\n",
    "```\n",
    "\n",
    "Looking just at the first row we get `[ 0.34763842,  0.24879643,  0.12789202]`, you can confirm these are the 3 largest probabilities in `a`. You'll also notice `[3, 0, 5]` are the corresponding indices."
   ]
  },
  {
   "cell_type": "code",
   "execution_count": 320,
   "metadata": {},
   "outputs": [
    {
     "name": "stdout",
     "output_type": "stream",
     "text": [
      "Filename: traffic-light-sign.jpg\n",
      "Top 5: [10  9 16 34 12]\n",
      "Top 5 Strings and Probs:\n",
      "No passing for vehicles over 3.5 metric tons\n",
      "1.0\n",
      "No passing\n",
      "1.3791089e-08\n",
      "Vehicles over 3.5 metric tons prohibited\n",
      "3.7068947e-14\n",
      "Turn left ahead\n",
      "1.848368e-16\n",
      "Priority road\n",
      "5.4262295e-18\n",
      "\n",
      "Filename: german-yield-sign.jpg\n",
      "Top 5: [13 12 25 42  1]\n",
      "Top 5 Strings and Probs:\n",
      "Yield\n",
      "1.0\n",
      "Priority road\n",
      "7.6121545e-09\n",
      "Road work\n",
      "6.862081e-10\n",
      "End of no passing by vehicles over 3.5 metric tons\n",
      "1.7625693e-11\n",
      "Speed limit (30km/h)\n",
      "3.9517136e-15\n",
      "\n",
      "Filename: 20kmph-sign.jpg\n",
      "Top 5: [35 36 38 34 33]\n",
      "Top 5 Strings and Probs:\n",
      "Ahead only\n",
      "0.9983011\n",
      "Go straight or right\n",
      "0.0010695207\n",
      "Keep right\n",
      "0.0006130815\n",
      "Turn left ahead\n",
      "1.36279305e-05\n",
      "Turn right ahead\n",
      "2.489008e-06\n",
      "\n",
      "Filename: do-not-enter-sign.jpg\n",
      "Top 5: [17 14 11 29  0]\n",
      "Top 5 Strings and Probs:\n",
      "No entry\n",
      "1.0\n",
      "Stop\n",
      "3.8185468e-31\n",
      "Right-of-way at the next intersection\n",
      "5.761884e-34\n",
      "Bicycles crossing\n",
      "2.3121945e-35\n",
      "Speed limit (20km/h)\n",
      "0.0\n",
      "\n",
      "Filename: do-not-pass-sign.jpg\n",
      "Top 5: [ 9 41 23 37 20]\n",
      "Top 5 Strings and Probs:\n",
      "No passing\n",
      "1.0\n",
      "End of no passing\n",
      "3.2488647e-17\n",
      "Slippery road\n",
      "9.554499e-21\n",
      "Go straight or left\n",
      "2.9791922e-22\n",
      "Dangerous curve to the right\n",
      "6.605565e-23\n",
      "\n"
     ]
    }
   ],
   "source": [
    "### Print out the top five softmax probabilities for the predictions on the German traffic sign images found on the web. \n",
    "### Feel free to use as many code cells as needed.\n",
    "with tf.Session() as session:\n",
    "    softmax = tf.nn.softmax(logits)\n",
    "    top_five = tf.nn.top_k(softmax, k=5, sorted=True)\n",
    "    saver.restore(session, tf.train.latest_checkpoint(\".\"))\n",
    "    softmax_output = session.run(softmax, feed_dict={x: X_test_found, keep_prob: 1.0})\n",
    "    output = session.run(top_five, feed_dict={softmax: softmax_output})\n",
    "    #print the filename, then each result.\n",
    "    i = 0 \n",
    "    for filename in os.listdir(\"5_test_images\"):\n",
    "        print(\"Filename: \" + filename)\n",
    "        print(\"Top 5: \" + str(output[1][i]))\n",
    "        print(\"Top 5 Strings and Probs:\")\n",
    "        for j in range(0,5):\n",
    "            print(signnames[output[1][i][j]][1])\n",
    "            print(output[0][i][j])\n",
    "        print(\"\") #New line for clarity\n",
    "        i += 1\n",
    "        "
   ]
  },
  {
   "cell_type": "markdown",
   "metadata": {},
   "source": [
    "### Project Writeup\n",
    "\n",
    "Once you have completed the code implementation, document your results in a project writeup using this [template](https://github.com/udacity/CarND-Traffic-Sign-Classifier-Project/blob/master/writeup_template.md) as a guide. The writeup can be in a markdown or pdf file. "
   ]
  },
  {
   "cell_type": "markdown",
   "metadata": {},
   "source": [
    "> **Note**: Once you have completed all of the code implementations and successfully answered each question above, you may finalize your work by exporting the iPython Notebook as an HTML document. You can do this by using the menu above and navigating to  \\n\",\n",
    "    \"**File -> Download as -> HTML (.html)**. Include the finished document along with this notebook as your submission."
   ]
  },
  {
   "cell_type": "markdown",
   "metadata": {},
   "source": [
    "---\n",
    "\n",
    "## Step 4 (Optional): Visualize the Neural Network's State with Test Images\n",
    "\n",
    " This Section is not required to complete but acts as an additional excersise for understaning the output of a neural network's weights. While neural networks can be a great learning device they are often referred to as a black box. We can understand what the weights of a neural network look like better by plotting their feature maps. After successfully training your neural network you can see what it's feature maps look like by plotting the output of the network's weight layers in response to a test stimuli image. From these plotted feature maps, it's possible to see what characteristics of an image the network finds interesting. For a sign, maybe the inner network feature maps react with high activation to the sign's boundary outline or to the contrast in the sign's painted symbol.\n",
    "\n",
    " Provided for you below is the function code that allows you to get the visualization output of any tensorflow weight layer you want. The inputs to the function should be a stimuli image, one used during training or a new one you provided, and then the tensorflow variable name that represents the layer's state during the training process, for instance if you wanted to see what the [LeNet lab's](https://classroom.udacity.com/nanodegrees/nd013/parts/fbf77062-5703-404e-b60c-95b78b2f3f9e/modules/6df7ae49-c61c-4bb2-a23e-6527e69209ec/lessons/601ae704-1035-4287-8b11-e2c2716217ad/concepts/d4aca031-508f-4e0b-b493-e7b706120f81) feature maps looked like for it's second convolutional layer you could enter conv2 as the tf_activation variable.\n",
    "\n",
    "For an example of what feature map outputs look like, check out NVIDIA's results in their paper [End-to-End Deep Learning for Self-Driving Cars](https://devblogs.nvidia.com/parallelforall/deep-learning-self-driving-cars/) in the section Visualization of internal CNN State. NVIDIA was able to show that their network's inner weights had high activations to road boundary lines by comparing feature maps from an image with a clear path to one without. Try experimenting with a similar test to show that your trained network's weights are looking for interesting features, whether it's looking at differences in feature maps from images with or without a sign, or even what feature maps look like in a trained network vs a completely untrained one on the same sign image.\n",
    "\n",
    "<figure>\n",
    " <img src=\"visualize_cnn.png\" width=\"380\" alt=\"Combined Image\" />\n",
    " <figcaption>\n",
    " <p></p> \n",
    " <p style=\"text-align: center;\"> Your output should look something like this (above)</p> \n",
    " </figcaption>\n",
    "</figure>\n",
    " <p></p> \n"
   ]
  },
  {
   "cell_type": "code",
   "execution_count": null,
   "metadata": {
    "collapsed": true
   },
   "outputs": [],
   "source": [
    "### Visualize your network's feature maps here.\n",
    "### Feel free to use as many code cells as needed.\n",
    "\n",
    "# image_input: the test image being fed into the network to produce the feature maps\n",
    "# tf_activation: should be a tf variable name used during your training procedure that represents the calculated state of a specific weight layer\n",
    "# activation_min/max: can be used to view the activation contrast in more detail, by default matplot sets min and max to the actual min and max values of the output\n",
    "# plt_num: used to plot out multiple different weight feature map sets on the same block, just extend the plt number for each new feature map entry\n",
    "\n",
    "def outputFeatureMap(image_input, tf_activation, activation_min=-1, activation_max=-1 ,plt_num=1):\n",
    "    # Here make sure to preprocess your image_input in a way your network expects\n",
    "    # with size, normalization, ect if needed\n",
    "    # image_input =\n",
    "    # Note: x should be the same name as your network's tensorflow data placeholder variable\n",
    "    # If you get an error tf_activation is not defined it may be having trouble accessing the variable from inside a function\n",
    "    activation = tf_activation.eval(session=sess,feed_dict={x : image_input})\n",
    "    featuremaps = activation.shape[3]\n",
    "    plt.figure(plt_num, figsize=(15,15))\n",
    "    for featuremap in range(featuremaps):\n",
    "        plt.subplot(6,8, featuremap+1) # sets the number of feature maps to show on each row and column\n",
    "        plt.title('FeatureMap ' + str(featuremap)) # displays the feature map number\n",
    "        if activation_min != -1 & activation_max != -1:\n",
    "            plt.imshow(activation[0,:,:, featuremap], interpolation=\"nearest\", vmin =activation_min, vmax=activation_max, cmap=\"gray\")\n",
    "        elif activation_max != -1:\n",
    "            plt.imshow(activation[0,:,:, featuremap], interpolation=\"nearest\", vmax=activation_max, cmap=\"gray\")\n",
    "        elif activation_min !=-1:\n",
    "            plt.imshow(activation[0,:,:, featuremap], interpolation=\"nearest\", vmin=activation_min, cmap=\"gray\")\n",
    "        else:\n",
    "            plt.imshow(activation[0,:,:, featuremap], interpolation=\"nearest\", cmap=\"gray\")"
   ]
  }
 ],
 "metadata": {
  "anaconda-cloud": {},
  "kernelspec": {
   "display_name": "Python 3",
   "language": "python",
   "name": "python3"
  },
  "language_info": {
   "codemirror_mode": {
    "name": "ipython",
    "version": 3
   },
   "file_extension": ".py",
   "mimetype": "text/x-python",
   "name": "python",
   "nbconvert_exporter": "python",
   "pygments_lexer": "ipython3",
   "version": "3.5.2"
  },
  "widgets": {
   "state": {},
   "version": "1.1.2"
  }
 },
 "nbformat": 4,
 "nbformat_minor": 1
}
